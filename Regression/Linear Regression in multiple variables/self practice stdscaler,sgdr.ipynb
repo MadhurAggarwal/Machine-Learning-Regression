{
 "cells": [
  {
   "cell_type": "code",
   "execution_count": 1,
   "id": "98036ae0",
   "metadata": {},
   "outputs": [],
   "source": [
    "import numpy as np\n",
    "import matplotlib.pyplot as plt\n",
    "from sklearn.preprocessing import StandardScaler\n",
    "from sklearn.linear_model import SGDRegressor"
   ]
  },
  {
   "cell_type": "code",
   "execution_count": 2,
   "id": "33676003",
   "metadata": {},
   "outputs": [
    {
     "name": "stdout",
     "output_type": "stream",
     "text": [
      "[299.56227222 499.2459957 ]\n"
     ]
    }
   ],
   "source": [
    "x_train=np.array([1.0, 2.0])\n",
    "y_train=np.array([300, 500])\n",
    "\n",
    "#when number of features is 1 we need to reshape the training data\n",
    "#x_train should be of order m*n, m=no of values, n=no of attributes\n",
    "scaler= StandardScaler()\n",
    "x_norm= scaler.fit_transform(x_train.reshape(-1,1))\n",
    "\n",
    "sgdr= SGDRegressor(max_iter=10000)\n",
    "sgdr.fit(x_norm,y_train)\n",
    "prediction=sgdr.predict(x_norm)\n",
    "\n",
    "print(prediction)"
   ]
  },
  {
   "cell_type": "code",
   "execution_count": null,
   "id": "f4278dfb",
   "metadata": {},
   "outputs": [],
   "source": []
  }
 ],
 "metadata": {
  "kernelspec": {
   "display_name": "Python 3 (ipykernel)",
   "language": "python",
   "name": "python3"
  },
  "language_info": {
   "codemirror_mode": {
    "name": "ipython",
    "version": 3
   },
   "file_extension": ".py",
   "mimetype": "text/x-python",
   "name": "python",
   "nbconvert_exporter": "python",
   "pygments_lexer": "ipython3",
   "version": "3.11.3"
  }
 },
 "nbformat": 4,
 "nbformat_minor": 5
}
