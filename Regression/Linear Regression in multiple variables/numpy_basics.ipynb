{
 "cells": [
  {
   "cell_type": "code",
   "execution_count": 3,
   "id": "7e1bf41b",
   "metadata": {},
   "outputs": [],
   "source": [
    "#for 1D arrays we can pass either a single value (4) or a tuple ((4,)), same result\n",
    "a= np.zeros(4)\n",
    "a= np.zeros((4,))"
   ]
  },
  {
   "cell_type": "code",
   "execution_count": 4,
   "id": "72e1d1f2",
   "metadata": {},
   "outputs": [],
   "source": [
    "def function(a):\n",
    "    print(f\"a={a}, a.shape={a.shape}, a.dtype={a.dtype}\")"
   ]
  },
  {
   "cell_type": "code",
   "execution_count": 7,
   "id": "5f6cdf03",
   "metadata": {},
   "outputs": [
    {
     "name": "stdout",
     "output_type": "stream",
     "text": [
      "a=[0. 0. 0. 0.], a.shape=(4,), a.dtype=float64\n",
      "a=[0. 0. 0. 0.], a.shape=(4,), a.dtype=float64\n"
     ]
    }
   ],
   "source": [
    "#np.zeros(n): vector of n elements initialised to 0 (float)\n",
    "a= np.zeros(4)\n",
    "function(a)\n",
    "a= np.zeros((4,))\n",
    "function(a)"
   ]
  },
  {
   "cell_type": "code",
   "execution_count": 20,
   "id": "37e5ef4c",
   "metadata": {},
   "outputs": [
    {
     "name": "stdout",
     "output_type": "stream",
     "text": [
      "a=[0 1 2 3 4 5 6 7 8 9], a.shape=(10,), a.dtype=int32\n",
      "a=[0. 1. 2. 3. 4. 5. 6. 7. 8. 9.], a.shape=(10,), a.dtype=float64\n"
     ]
    }
   ],
   "source": [
    "#np.arange(n): vector of n elements from 0 to n-1\n",
    "a=np.arange(10)\n",
    "function(a)\n",
    "a=np.arange(10.)\n",
    "function(a)"
   ]
  },
  {
   "cell_type": "code",
   "execution_count": 22,
   "id": "27525cfd",
   "metadata": {},
   "outputs": [
    {
     "name": "stdout",
     "output_type": "stream",
     "text": [
      "a=[0.98645905 0.18017651 0.8207218  0.4584531  0.84976883], a.shape=(5,), a.dtype=float64\n",
      "a=[0.25129083 0.40405429 0.74670112 0.65333184 0.42613079], a.shape=(5,), a.dtype=float64\n"
     ]
    }
   ],
   "source": [
    "#np.random.rand(n): array of n random numbers between 0 and 1\n",
    "a=np.random.rand(5)\n",
    "function(a)\n",
    "a=np.random.random_sample(5)\n",
    "function(a)"
   ]
  },
  {
   "cell_type": "code",
   "execution_count": 23,
   "id": "764780d9",
   "metadata": {},
   "outputs": [
    {
     "name": "stdout",
     "output_type": "stream",
     "text": [
      "a=[1 2 3 4], a.shape=(4,), a.dtype=int32\n",
      "a=[1. 2. 3. 4.], a.shape=(4,), a.dtype=float64\n"
     ]
    }
   ],
   "source": [
    "#all elements in np array are of same datatype:\n",
    "a=np.array([1,2,3,4]); function(a);\n",
    "a=np.array([1.,2,3,4]); function(a);"
   ]
  },
  {
   "cell_type": "code",
   "execution_count": 34,
   "id": "9aefc9c3",
   "metadata": {},
   "outputs": [
    {
     "name": "stdout",
     "output_type": "stream",
     "text": [
      "a[2]=2, a[2].shape=()\n",
      "b[2]=[ 0  3  6  9 12], b[2].shape=(5,)\n"
     ]
    }
   ],
   "source": [
    "#indexing \n",
    "a=np.arange(10)\n",
    "print(f\"a[2]={a[2]}, a[2].shape={a[2].shape}\")\n",
    "b=np.array([np.arange(5),2*np.arange(5),3*np.arange(5)])\n",
    "print(f\"b[2]={b[2]}, b[2].shape={b[2].shape}\")"
   ]
  },
  {
   "cell_type": "code",
   "execution_count": 35,
   "id": "30bc3249",
   "metadata": {},
   "outputs": [
    {
     "name": "stdout",
     "output_type": "stream",
     "text": [
      "a=[0 1 2 3 4 5 6 7 8 9], a[-1]=9\n"
     ]
    }
   ],
   "source": [
    "#negative indexes count from end\n",
    "print(f\"a={a}, a[-1]={a[-1]}\")"
   ]
  },
  {
   "cell_type": "code",
   "execution_count": 36,
   "id": "f01052c5",
   "metadata": {},
   "outputs": [
    {
     "name": "stdout",
     "output_type": "stream",
     "text": [
      "Error Message: index 10 is out of bounds for axis 0 with size 10\n"
     ]
    }
   ],
   "source": [
    "#try catch block\n",
    "try:\n",
    "    c=a[10]\n",
    "except Exception as e:\n",
    "    print(f\"Error Message: {e}\")"
   ]
  },
  {
   "cell_type": "code",
   "execution_count": 50,
   "id": "de3b4544",
   "metadata": {},
   "outputs": [
    {
     "name": "stdout",
     "output_type": "stream",
     "text": [
      "x[3:7:1]=[3 4 5 6]\n",
      "x[3:9:2]=[3 5 7]\n",
      "x[-9:-3:1]=[1 2 3 4 5 6]\n",
      "x[::2]=[0 2 4 6 8]\n",
      "x[:3]=[0 1 2]\n"
     ]
    }
   ],
   "source": [
    "#slicing [start:stop:step]\n",
    "x=np.arange(10)\n",
    "print(f\"x[3:7:1]={x[3:7:1]}\")\n",
    "print(f\"x[3:9:2]={x[3:9:2]}\")\n",
    "print(f\"x[-9:-3:1]={x[-9:-3:1]}\")\n",
    "print(f\"x[::2]={x[::2]}\")\n",
    "print(f\"x[:3]={x[:3]}\")"
   ]
  },
  {
   "cell_type": "code",
   "execution_count": 51,
   "id": "50af24e8",
   "metadata": {},
   "outputs": [
    {
     "name": "stdout",
     "output_type": "stream",
     "text": [
      "sum=6, average=1.5, square=[0 1 4 9]\n"
     ]
    }
   ],
   "source": [
    "#np operations: \n",
    "a=np.arange(4)\n",
    "print(f\"sum={np.sum(a)}, average={np.mean(a)}, square={a**2}\")"
   ]
  },
  {
   "cell_type": "code",
   "execution_count": 55,
   "id": "17468177",
   "metadata": {},
   "outputs": [
    {
     "name": "stdout",
     "output_type": "stream",
     "text": [
      "∑(a[i]*b[i]) =249825.02, time=392.62ms\n",
      "np.dot(a, b) =249825.02, time=1.99ms\n"
     ]
    }
   ],
   "source": [
    "np.random.seed(1)\n",
    "a=np.random.rand(1000000)\n",
    "b=np.random.rand(1000000)\n",
    "\n",
    "tic=time.time()\n",
    "x=0\n",
    "for i in range(1000000):\n",
    "    x+=a[i]*b[i]\n",
    "toc=time.time()\n",
    "print(f\"∑(a[i]*b[i]) ={x:.2f}, time={1000*(toc-tic):.2f}ms\")\n",
    "\n",
    "tic=time.time()\n",
    "y=np.dot(a,b)\n",
    "toc=time.time()\n",
    "print(f\"np.dot(a, b) ={y:.2f}, time={1000*(toc-tic):.2f}ms\")"
   ]
  },
  {
   "cell_type": "code",
   "execution_count": 56,
   "id": "e3e9ec68",
   "metadata": {},
   "outputs": [],
   "source": [
    "del(a)\n",
    "del(b)"
   ]
  },
  {
   "cell_type": "code",
   "execution_count": 57,
   "id": "e728a862",
   "metadata": {},
   "outputs": [
    {
     "name": "stdout",
     "output_type": "stream",
     "text": [
      "[[0. 0. 0. 0.]\n",
      " [0. 0. 0. 0.]\n",
      " [0. 0. 0. 0.]]\n"
     ]
    }
   ],
   "source": [
    "#Matrix\n",
    "arr= np.zeros((3,4))\n",
    "print(arr)"
   ]
  },
  {
   "cell_type": "code",
   "execution_count": 74,
   "id": "41ff0acc",
   "metadata": {},
   "outputs": [
    {
     "name": "stdout",
     "output_type": "stream",
     "text": [
      "a=[[0 1]\n",
      " [2 3]\n",
      " [4 5]]\n",
      "\n",
      "a[2]=[4 5]\n",
      "a[2,0]=4\n"
     ]
    }
   ],
   "source": [
    "#Matrix indexing\n",
    "a= np.arange(6).reshape(3,2)\n",
    "print(f\"a={a}\\n\")\n",
    "print(f\"a[2]={a[2]}\")\n",
    "print(f\"a[2,0]={a[2,0]}\")"
   ]
  },
  {
   "cell_type": "code",
   "execution_count": 75,
   "id": "150b4fa5",
   "metadata": {},
   "outputs": [
    {
     "name": "stdout",
     "output_type": "stream",
     "text": [
      "[[ 0  1  2  3  4  5  6  7  8  9]\n",
      " [10 11 12 13 14 15 16 17 18 19]] \n",
      "\n",
      "[[ 3  5  7]\n",
      " [13 15 17]]\n"
     ]
    }
   ],
   "source": [
    "#slicing\n",
    "a=np.arange(20).reshape(2,10)\n",
    "print(a,\"\\n\")\n",
    "print(a[:,3:8:2])"
   ]
  }
 ],
 "metadata": {
  "kernelspec": {
   "display_name": "Python 3 (ipykernel)",
   "language": "python",
   "name": "python3"
  },
  "language_info": {
   "codemirror_mode": {
    "name": "ipython",
    "version": 3
   },
   "file_extension": ".py",
   "mimetype": "text/x-python",
   "name": "python",
   "nbconvert_exporter": "python",
   "pygments_lexer": "ipython3",
   "version": "3.11.3"
  }
 },
 "nbformat": 4,
 "nbformat_minor": 5
}
